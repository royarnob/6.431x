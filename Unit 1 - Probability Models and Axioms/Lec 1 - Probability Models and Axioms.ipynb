{
 "cells": [
  {
   "cell_type": "code",
   "execution_count": 15,
   "metadata": {},
   "outputs": [
    {
     "name": "stdout",
     "output_type": "stream",
     "text": [
      "Defaulting to user installation because normal site-packages is not writeable\n",
      "Requirement already satisfied: plotly in /Users/roy/Library/Python/3.8/lib/python/site-packages (5.24.1)\n",
      "Requirement already satisfied: matplotlib-venn in /Users/roy/Library/Python/3.8/lib/python/site-packages (1.1.1)\n",
      "Requirement already satisfied: tenacity>=6.2.0 in /Users/roy/Library/Python/3.8/lib/python/site-packages (from plotly) (9.0.0)\n",
      "Requirement already satisfied: packaging in /Users/roy/Library/Python/3.8/lib/python/site-packages (from plotly) (21.3)\n",
      "Requirement already satisfied: matplotlib in /Users/roy/Library/Python/3.8/lib/python/site-packages (from matplotlib-venn) (3.7.5)\n",
      "Requirement already satisfied: numpy in /Users/roy/Library/Python/3.8/lib/python/site-packages (from matplotlib-venn) (1.24.4)\n",
      "Requirement already satisfied: scipy in /Users/roy/Library/Python/3.8/lib/python/site-packages (from matplotlib-venn) (1.10.1)\n",
      "Requirement already satisfied: contourpy>=1.0.1 in /Users/roy/Library/Python/3.8/lib/python/site-packages (from matplotlib->matplotlib-venn) (1.1.1)\n",
      "Requirement already satisfied: cycler>=0.10 in /Users/roy/Library/Python/3.8/lib/python/site-packages (from matplotlib->matplotlib-venn) (0.12.1)\n",
      "Requirement already satisfied: fonttools>=4.22.0 in /Users/roy/Library/Python/3.8/lib/python/site-packages (from matplotlib->matplotlib-venn) (4.55.3)\n",
      "Requirement already satisfied: kiwisolver>=1.0.1 in /Users/roy/Library/Python/3.8/lib/python/site-packages (from matplotlib->matplotlib-venn) (1.4.7)\n",
      "Requirement already satisfied: pillow>=6.2.0 in /Users/roy/Library/Python/3.8/lib/python/site-packages (from matplotlib->matplotlib-venn) (10.4.0)\n",
      "Requirement already satisfied: pyparsing>=2.3.1 in /Users/roy/Library/Python/3.8/lib/python/site-packages (from matplotlib->matplotlib-venn) (3.0.7)\n",
      "Requirement already satisfied: python-dateutil>=2.7 in /Users/roy/Library/Python/3.8/lib/python/site-packages (from matplotlib->matplotlib-venn) (2.8.2)\n",
      "Requirement already satisfied: importlib-resources>=3.2.0 in /Users/roy/Library/Python/3.8/lib/python/site-packages (from matplotlib->matplotlib-venn) (6.4.5)\n",
      "Requirement already satisfied: zipp>=3.1.0 in /Users/roy/Library/Python/3.8/lib/python/site-packages (from importlib-resources>=3.2.0->matplotlib->matplotlib-venn) (3.20.2)\n",
      "Requirement already satisfied: six>=1.5 in /Library/Developer/CommandLineTools/Library/Frameworks/Python3.framework/Versions/3.8/lib/python3.8/site-packages (from python-dateutil>=2.7->matplotlib->matplotlib-venn) (1.15.0)\n",
      "Note: you may need to restart the kernel to use updated packages.\n"
     ]
    }
   ],
   "source": [
    "pip install plotly matplotlib-venn"
   ]
  },
  {
   "cell_type": "markdown",
   "metadata": {},
   "source": [
    "___\n",
    "#### Exercise: Sample space\n",
    "\n",
    "For the experiment of flipping a coin, and for each one of the following choices, determine whether we have a legitimate sample space:\n",
    "\n",
    "$\\Omega = \\{ \\text{Heads and it is raining, Heads and it is not raining, Tails}  \\}$\n",
    "\n",
    "***Answer Attempt.***\n",
    "\n",
    "Yes, it is a sample space.\n",
    "\n",
    "The objects in the collection are mutually exclusive and collectively exhaustive.\n",
    "\n",
    "<pre>\n",
    "├── ├── Heads and it is raining\n",
    "│   └── Heads and it is not raining\n",
    "│\n",
    "└── Tails\n",
    "</pre>\n",
    "\n",
    "<br>\n",
    "\n",
    "$\\Omega = \\{ \\text{Heads and it is raining, Tails and it is not raining, Tails}  \\}$\n",
    "\n",
    "***Answer Attempt.***\n",
    "\n",
    "No, it is not a sample space.\n",
    "\n",
    "If \"Tails and it is not raining,\" occurs, then the outcome \"Tails,\" occurs, and therefore the collection is not mutually exclusive.\n",
    "\n",
    "<pre>\n",
    "├── Heads and it is raining\n",
    "│\n",
    "└── ├── Tails and it is not raining\n",
    "    └── Tails\n",
    "</pre>"
   ]
  },
  {
   "cell_type": "markdown",
   "metadata": {},
   "source": [
    "___\n",
    "#### Exercise: Tree Representations\n",
    "\n",
    "Paul checks the weather forecast. If the forecast is good, Paul will go out for a walk. If the forecast is bad, then Paul will either stay home or go out. If he goes out, he might either remember or forget his umbrella. In the tree diagram below, identify the leaf that corresponds to the event that the forecast is bad and Paul stays home.\n",
    "\n",
    "<pre>\n",
    "├── 1\n",
    "│\n",
    "└── ├── 2\n",
    "    │\n",
    "    └── ├── 3\n",
    "        └── 4\n",
    "</pre>\n",
    "\n",
    "***Answer Attempt.***\n",
    "\n",
    "Leaf 2 corresponds to the event that the forecast is bad and Paul stays home.\n",
    "\n",
    "The top leaf 1, corresponds to the event that the forecast is good. The bottom leaves 3 and 4 corresponds to the weather is bad, and Paul goes outside."
   ]
  },
  {
   "cell_type": "markdown",
   "metadata": {},
   "source": [
    "___\n",
    "\n",
    "#### Exercise: Axioms\n",
    "\n",
    "Let $A$ and $B$ be events on the same sample space, with $\\mathbb{P}(A) = 0.6$ and $\\mathbb{P}(A) = 0.7$. Can these two events be disjoint?\n",
    "\n",
    "***Answer Attempt.***\n",
    "\n",
    "These two events cannot be disjoint.\n",
    "\n",
    "Recall that the probability of the sample space is $\\mathbb{P}(\\Omega)=1$. If events $A$ and $B$ were disjoint, the probability of the union of the two events would be $\\mathbb{P}(A) + \\mathbb{P}(B) = 0.6 + 0.7 = 1.3$, which is greater than the probability of the sample space.\n"
   ]
  },
  {
   "cell_type": "code",
   "execution_count": 3,
   "metadata": {},
   "outputs": [
    {
     "data": {
      "text/plain": [
       "(<matplotlib.patches.Circle at 0x12ead3ca0>,\n",
       " <matplotlib.patches.Circle at 0x12ead3c70>)"
      ]
     },
     "execution_count": 3,
     "metadata": {},
     "output_type": "execute_result"
    },
    {
     "data": {
      "image/png": "[encoded data removed]",
      "text/plain": [
       "<Figure size 432x288 with 1 Axes>"
      ]
     },
     "metadata": {},
     "output_type": "display_data"
    }
   ],
   "source": [
    "from matplotlib_venn import venn2, venn2_circles\n",
    "from matplotlib import pyplot as plt \n",
    "\n",
    "ex_axioms = venn2(subsets = (0.6, 0.7, 0.3), set_labels = ('A', 'B'), set_colors=(\"red\", \"blue\"), alpha=0.65)\n",
    "ex_axioms = venn2_circles(subsets = (0.6, 0.7, 0.3)) \n",
    "ex_axioms"
   ]
  },
  {
   "cell_type": "markdown",
   "metadata": {},
   "source": [
    "___\n",
    "\n",
    "#### Exercise: Simple Properties\n",
    "\n",
    "Let $A$, $B$, and $C$ be disjoint subsets of the sample space. For each one of the following statements, determine whether it is true or false.\n",
    "\n",
    "<br>\n",
    "\n",
    "$\\mathbb{P}(A) + \\mathbb{P}(A^{c}) + \\mathbb{P}(B) = \\mathbb{P}(A \\cup A^c \\cup B)$\n",
    "\n",
    "***Answer Attempt.***\n",
    "\n",
    "False.\n",
    "\n",
    "This statement is not true, because since events $A$ and $B$ are disjoint, the sum of the probabilites will be greater than 1, but the union will not be greater than 1.\n",
    "\n",
    "<br>\n",
    "\n",
    "$\\mathbb{P}(A) + \\mathbb{P}(B) \\le 1 $ \n",
    "\n",
    "***Answer Attempt.***\n",
    "\n",
    "True.\n",
    "\n",
    "This statement will always be true due to the axioms of probability space, where $\\mathbb{P}(\\Omega) = 1$.\n",
    "\n",
    "<br>\n",
    "\n",
    "$\\mathbb{P}(A^C) + \\mathbb{P}(B) \\le 1 $\n",
    "\n",
    "***Answer Attempt.***\n",
    "\n",
    "False.\n",
    "\n",
    "This statement is not always true, because the sum of the probability of the complement of event A and event B can be greater than 1.\n",
    "\n",
    "<br>\n",
    "\n",
    "$\\mathbb{P} ( A \\cup B \\cup C ) \\ge \\mathbb{P} ( A \\cup B )$\n",
    "\n",
    "***Answer Attempt.***\n",
    "\n",
    "True.\n",
    "\n",
    "This statement is always true, becauses events A, B, or C cannot have a \"negative probability,\" and thus the union of the events will always equal or be greater than a subset of those events.\n",
    "\n"
   ]
  },
  {
   "cell_type": "markdown",
   "metadata": {},
   "source": [
    "___\n",
    "\n",
    "#### Exercise: More Properties"
   ]
  },
  {
   "cell_type": "markdown",
   "metadata": {},
   "source": []
  }
 ],
 "metadata": {
  "kernelspec": {
   "display_name": "Python 3",
   "language": "python",
   "name": "python3"
  },
  "language_info": {
   "codemirror_mode": {
    "name": "ipython",
    "version": 3
   },
   "file_extension": ".py",
   "mimetype": "text/x-python",
   "name": "python",
   "nbconvert_exporter": "python",
   "pygments_lexer": "ipython3",
   "version": "3.8.9"
  }
 },
 "nbformat": 4,
 "nbformat_minor": 2
}
