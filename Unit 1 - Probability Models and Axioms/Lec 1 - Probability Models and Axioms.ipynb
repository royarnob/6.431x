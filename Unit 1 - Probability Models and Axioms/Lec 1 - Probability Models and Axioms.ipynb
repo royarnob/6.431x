{
 "cells": [
  {
   "cell_type": "code",
   "execution_count": 1,
   "metadata": {},
   "outputs": [
    {
     "name": "stdout",
     "output_type": "stream",
     "text": [
      "Defaulting to user installation because normal site-packages is not writeable\n",
      "Requirement already satisfied: plotly in /Users/roy/Library/Python/3.8/lib/python/site-packages (5.24.1)\n",
      "Requirement already satisfied: tenacity>=6.2.0 in /Users/roy/Library/Python/3.8/lib/python/site-packages (from plotly) (9.0.0)\n",
      "Requirement already satisfied: packaging in /Users/roy/Library/Python/3.8/lib/python/site-packages (from plotly) (21.3)\n",
      "Requirement already satisfied: pyparsing!=3.0.5,>=2.0.2 in /Users/roy/Library/Python/3.8/lib/python/site-packages (from packaging->plotly) (3.0.7)\n",
      "Note: you may need to restart the kernel to use updated packages.\n"
     ]
    }
   ],
   "source": [
    "pip install plotly"
   ]
  },
  {
   "cell_type": "markdown",
   "metadata": {},
   "source": [
    "#### Exercise: Sample space\n",
    "\n",
    "For the experiment of flipping a coin, and for each one of the following choices, determine whether we have a legitimate sample space:\n",
    "\n",
    "$\\Omega = \\{ \\text{Heads and it is raining, Heads and it is not raining, Tails}  \\}$\n",
    "\n",
    "***Answer Attempt.***\n",
    "\n",
    "Yes, it is a sample space. The objects in the collection are mutually exclusive and collectively exhaustive.\n",
    "\n",
    "<pre>\n",
    "├── ├── Heads and it is raining\n",
    "│   └── Heads and it is not raining\n",
    "│\n",
    "└── Tails\n",
    "</pre>\n",
    "\n",
    "<br>\n",
    "\n",
    "$\\Omega = \\{ \\text{Heads and it is raining, Tails and it is not raining, Tails}  \\}$\n",
    "\n",
    "***Answer Attempt.***\n",
    "\n",
    "No, it is not a sample space. If \"Tails and it is not raining,\" occurs, then the outcome \"Tails,\" occurs, and therefore the collection is not mutually exclusive.\n",
    "\n",
    "<pre>\n",
    "├── Heads and it is raining\n",
    "│\n",
    "└── ├── Tails and it is not raining\n",
    "    └── Tails\n",
    "</pre>\n"
   ]
  }
 ],
 "metadata": {
  "kernelspec": {
   "display_name": "Python 3",
   "language": "python",
   "name": "python3"
  },
  "language_info": {
   "codemirror_mode": {
    "name": "ipython",
    "version": 3
   },
   "file_extension": ".py",
   "mimetype": "text/x-python",
   "name": "python",
   "nbconvert_exporter": "python",
   "pygments_lexer": "ipython3",
   "version": "3.8.9"
  }
 },
 "nbformat": 4,
 "nbformat_minor": 2
}
