{
 "cells": [
  {
   "cell_type": "markdown",
   "metadata": {},
   "source": [
    "#### **Mathematical Background**\n",
    "\n",
    "- Sets and De Morgan's Laws\n",
    "- Sequences and their limits\n",
    "- Infinite series\n",
    "    - Geometric Series\n",
    "- Sums with multiple indices\n",
    "- Countable and uncountable sets"
   ]
  },
  {
   "cell_type": "markdown",
   "metadata": {},
   "source": [
    "#### **Sets**\n",
    "\n",
    "- Collection of distinct elements\n",
    "\n",
    "$$\\{a, b, c, d \\} \\ \\ \\ \\ \\text{finite} $$\n",
    "$$\\mathbb{R}:\\text{real numbers} \\ \\ \\ \\ \\text{infinite} $$\n",
    "\n",
    "\n",
    "\n",
    "\n",
    "\n",
    "\n",
    "#### **Unions and Intersections**"
   ]
  },
  {
   "cell_type": "markdown",
   "metadata": {},
   "source": [
    "#### **De Morgan's Laws**\n",
    "\n",
    "$$( \\bigcup_n S_n)^c = \\bigcap_n S_n^c $$\n",
    "\n",
    "$$( \\bigcap_n S_n)^c = \\bigcup_n S_n^c $$"
   ]
  },
  {
   "cell_type": "markdown",
   "metadata": {},
   "source": []
  }
 ],
 "metadata": {
  "language_info": {
   "name": "python"
  }
 },
 "nbformat": 4,
 "nbformat_minor": 2
}
