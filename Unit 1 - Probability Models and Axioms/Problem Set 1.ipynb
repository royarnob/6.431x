{
 "cells": [
  {
   "cell_type": "markdown",
   "metadata": {},
   "source": [
    "#### Problem 1. Venn Diagrams \n",
    "\n",
    "In this problem, you are given descriptions in words of certain events (e.g., \"at least one of the events $A$, $B$, $C$ occurs\"). For each one of these descriptions, identify the correct symbolic description in terms of $A$, $B$, $C$ from Events E1-E7 below. Also identify the correct description in terms of regions (i.e., subsets of the sample space $\\Omega$) as depicted in the Venn diagram below. (For example, Region 1 is the part of $A$ outside of $B$ and $C$.)\n",
    "\n",
    "![Venn Diagram](images_1_2_events_1_35.jpg)\n",
    "\n",
    "Event E1: $A \\cap B \\cap C$\n",
    "\n",
    "\n",
    "Event E2: $(A \\cap B \\cap C)^c$\n",
    "\n",
    "\n",
    "Event E3: $A \\cap B \\cap C^c$\n",
    "\n",
    "\n",
    "Event E4: $B \\cup (B^c \\cap C^c)$\n",
    "\n",
    "\n",
    "Event E5: $A^c \\cap B^c \\cap C^c$\n",
    "\n",
    "\n",
    "Event E6: $(A \\cap B) \\cup (A \\cap C) \\cup (B \\cap C)$\n",
    "\n",
    "\n",
    "Event E7: $(A \\cap B^c \\cap C^c) \\cup (A^c \\cap B \\cap C^c) \\cup (A^c \\cap B^c \\cap C)$\n",
    "\n",
    "<br>\n",
    "\n",
    "1. At least two of the events A, B, C occur.\n",
    "\n",
    "Event E6: $(A \\cap B) \\cup (A \\cap C) \\cup (B \\cap C)$\n",
    "\n",
    "Regions: 2 4 5 6\n",
    "\n",
    "<br>\n",
    "\n",
    "2. At most two of the events $A$, $B$, $C$ occur.\n",
    "\n",
    "Event E2: $(A \\cap B \\cap C)^c$\n",
    "\n",
    "Regions: 1 2 3 5 6 7 8\n",
    "\n",
    "<br>\n",
    "\n",
    "3. None of the events $A$, $B$, $C$ occurs.\n",
    "\n",
    "Event E5: $A^c \\cap B^c \\cap C^c$\n",
    "\n",
    "Region: 8\n",
    "\n",
    "<br>\n",
    "\n",
    "4. All three events A, B, C occur.\n",
    "\n",
    "Event E1: $A \\cap B \\cap C$\n",
    "\n",
    "Region: 4\n",
    "\n",
    "<br>\n",
    "\n",
    "5. Exactly one of the events A, B, C occurs.\n",
    "\n",
    "Event E7: $(A \\cap B^c \\cap C^c) \\cup (A^c \\cap B \\cap C^c) \\cup (A^c \\cap B^c \\cap C)$\n",
    "\n",
    "Regions: 1 3 7\n",
    "\n",
    "<br>\n",
    "\n",
    "6. Events $A$ and $B$ occur, but $C$ does not occur.\n",
    "\n",
    "Event E3: $A \\cap B \\cap C^c$\n",
    "\n",
    "Region: 2\n",
    "\n",
    "<br>\n",
    "\n",
    "7. Either (i) event $B$ occurs, or (ii) neither $B$ or $C$ occurs.\n",
    "\n",
    "Event E4: $B \\cup (B^c \\cap C^c)$\n",
    "\n",
    "Regions: 1 2 3 4 6 8"
   ]
  },
  {
   "cell_type": "markdown",
   "metadata": {},
   "source": [
    "___\n",
    "\n",
    "#### Problem 2. Set Operations and Probabilities\n",
    "\n",
    "Find the value of $\\mathbb{P}(A \\cup (B^c \\cup C^c)^c)$ for each of the following cases:\n",
    "\n",
    "1. The events $A$, $B$, $C$ are disjoint events and $\\mathbb{P}(A) = \\dfrac{2}{5}.$\n",
    "\n",
    "***Answer Attempt.***\n",
    "\n",
    "$$\n",
    "\\begin{aligned}\n",
    "\\mathbb{P}(A \\cup (B^c \\cup C^c)^c) &= \\mathbb{P}(A \\cup (\\Omega)^c), &\\text{since } B^c \\cup C^c = \\Omega \\\\\n",
    "&= \\mathbb{P}(A \\cup \\emptyset)\\\\\n",
    "&= \\dfrac{2}{5}\n",
    "\\end{aligned}\n",
    "$$"
   ]
  },
  {
   "cell_type": "code",
   "execution_count": 24,
   "metadata": {},
   "outputs": [
    {
     "data": {
      "image/png": "[encoded data removed]",
      "text/plain": [
       "<Figure size 432x288 with 1 Axes>"
      ]
     },
     "metadata": {},
     "output_type": "display_data"
    }
   ],
   "source": [
    "from matplotlib_venn import venn3, venn3_circles\n",
    "from matplotlib import pyplot as plt \n",
    "\n",
    "v = venn3(subsets=(1, 1, 0, 1, 0, 0, 0),  \n",
    "          set_labels=('A', 'B', 'C')) \n",
    "\n",
    "venn3_circles(subsets=(1, 1, 0, 1, 0, 0, 0))\n",
    "\n",
    "plt.gca().set_axis_on()\n",
    "plt.show()"
   ]
  },
  {
   "cell_type": "markdown",
   "metadata": {},
   "source": [
    "2. The events $A$ and $C$ are disjoint events. $\\mathbb{P}(A) = \\dfrac{1}{2}$ and $\\mathbb{P}(B \\cap C) = \\dfrac{1}{4}.$\n",
    "\n",
    "***Answer Attempt.***\n",
    "\n",
    "By De Morgan's Law, it follows:\n",
    "\n",
    "$$\n",
    "(B^c \\cup C^c)^c \\to B \\cap C = 0.25\n",
    "$$\n",
    "\n",
    "And since, it is given, that event $A$ and event $C$ are disjoint, it follows:\n",
    "\n",
    "$$\n",
    "\\begin{aligned}\n",
    "\\mathbb{P}(A \\cup (B^c \\cup C^c)^c) &= \\mathbb{P}(A \\cup (B \\cap C))\\\\\n",
    "&= \\mathbb{P}(A) + \\mathbb{P}(B \\cap C)\\\\\n",
    "&= \\dfrac{1}{2} + \\dfrac{1}{4} \\\\\n",
    "&= \\dfrac{3}{4}\n",
    "\\end{aligned}\n",
    "$$\n"
   ]
  },
  {
   "cell_type": "markdown",
   "metadata": {},
   "source": []
  }
 ],
 "metadata": {
  "kernelspec": {
   "display_name": "Python 3",
   "language": "python",
   "name": "python3"
  },
  "language_info": {
   "codemirror_mode": {
    "name": "ipython",
    "version": 3
   },
   "file_extension": ".py",
   "mimetype": "text/x-python",
   "name": "python",
   "nbconvert_exporter": "python",
   "pygments_lexer": "ipython3",
   "version": "3.8.9"
  }
 },
 "nbformat": 4,
 "nbformat_minor": 2
}
