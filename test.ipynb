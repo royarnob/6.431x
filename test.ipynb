{
 "cells": [
  {
   "cell_type": "markdown",
   "metadata": {},
   "source": [
    "**Conditional Probability**\n",
    "\n",
    "A way to reason about the outcome of an experiment, based on **partial information.**\n",
    "\n",
    "Given an experiment, corresponding sample space, and a probability law, suppose that we know that the outcome is within some given event $B$. \n",
    "\n",
    "Quantify the likelihood that the outcome also belongs to some other given event $A$. Let's construct a probability law that for any event $A,$ the term $\\mathbb{P}(A|B)$ specifies the **conditional probability of $A$ given $B$.**\n",
    "\n",
    "Conditional probabilities $\\mathbb{P}(A|B)$ of different events $A$ constitute a legitimate probability law, which satisfies the probability axioms. \n",
    "\n",
    "Definition of conditional probability when all outcomes are equally likely is:\n",
    "\n",
    "$$\\mathbb{P}(A|B)=\\frac{\\text{number of elements } A\\cap B}{\\text{number of elements of }B}.$$\n",
    "\n",
    "Generalization:\n",
    "\n",
    "$$\\mathbb{P}(A|B)=\\frac{\\mathbb{P}(A\\cap B)}{\\mathbb{P}(B)},$$\n",
    "\n",
    "when $$\\mathbb{P}(B) > 0.$$\n",
    "\n",
    "In words, out of the total probability of the elements of $B,\\ \\mathbb{P}(A|B)$ is the fraction that is assigned to possible outcomes that also belng to $A.$"
   ]
  }
 ],
 "metadata": {
  "language_info": {
   "name": "python"
  }
 },
 "nbformat": 4,
 "nbformat_minor": 2
}
